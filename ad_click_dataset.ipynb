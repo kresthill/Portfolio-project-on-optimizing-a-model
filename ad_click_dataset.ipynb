{
 "cells": [
  {
   "cell_type": "code",
   "execution_count": null,
   "id": "0f65bb11-a3aa-4052-9c06-407fdffcf28c",
   "metadata": {},
   "outputs": [],
   "source": []
  },
  {
   "cell_type": "code",
   "execution_count": 2,
   "id": "5d192cab-baa3-4fba-b0e7-50269711c22e",
   "metadata": {},
   "outputs": [],
   "source": [
    "# Basic data and visualization libraries\n",
    "import pandas as pd\n",
    "import numpy as np\n",
    "import matplotlib.pyplot as plt\n",
    "\n",
    "#  Modeling and metrics\n",
    "import lightgbm as lgb\n",
    "from sklearn.model_selection import train_test_split\n",
    "from sklearn.metrics import classification_report, confusion_matrix, roc_auc_score, precision_recall_curve, f1_score\n"
   ]
  },
  {
   "cell_type": "markdown",
   "id": "b2af3a50-9fe8-474e-b46c-a071561dc45c",
   "metadata": {},
   "source": [
    "### Step 1 -  Load and Prepare the Dataset"
   ]
  },
  {
   "cell_type": "code",
   "execution_count": 3,
   "id": "9eec99a9-c1b5-4029-aafe-b536b77bced1",
   "metadata": {},
   "outputs": [
    {
     "name": "stdout",
     "output_type": "stream",
     "text": [
      "<class 'pandas.core.frame.DataFrame'>\n",
      "RangeIndex: 10000 entries, 0 to 9999\n",
      "Data columns (total 9 columns):\n",
      " #   Column            Non-Null Count  Dtype  \n",
      "---  ------            --------------  -----  \n",
      " 0   id                10000 non-null  int64  \n",
      " 1   full_name         10000 non-null  object \n",
      " 2   age               5234 non-null   float64\n",
      " 3   gender            5307 non-null   object \n",
      " 4   device_type       8000 non-null   object \n",
      " 5   ad_position       8000 non-null   object \n",
      " 6   browsing_history  5218 non-null   object \n",
      " 7   time_of_day       8000 non-null   object \n",
      " 8   click             10000 non-null  int64  \n",
      "dtypes: float64(1), int64(2), object(6)\n",
      "memory usage: 703.2+ KB\n"
     ]
    }
   ],
   "source": [
    "# Load dataset\n",
    "data = pd.read_csv(\"ad_click_dataset.csv\")\n",
    "data.info()\n"
   ]
  },
  {
   "cell_type": "code",
   "execution_count": 4,
   "id": "5ff7a536-79fa-4cff-a136-523080353417",
   "metadata": {},
   "outputs": [],
   "source": [
    "# Drop irrelevant columns\n",
    "data.drop(columns=[\"id\", \"full_name\", \"browsing_history\"], inplace=True, errors=\"ignore\")"
   ]
  },
  {
   "cell_type": "markdown",
   "id": "addcc1d3-190d-4f2a-9a71-0af362c9e1b7",
   "metadata": {},
   "source": [
    "### Step 3 - Feature Engineering"
   ]
  },
  {
   "cell_type": "code",
   "execution_count": 5,
   "id": "dbd03026-6634-484c-858f-7db1a15c5473",
   "metadata": {},
   "outputs": [],
   "source": [
    "# Create age bins\n",
    "data[\"age_bin\"] = pd.cut(data[\"age\"], bins=[0, 18, 30, 45, 60, 100], labels=False)\n",
    "\n",
    "#  Combine device and time info\n",
    "data[\"device_hour\"] = data[\"device_type\"].astype(str) + \"_\" + data[\"time_of_day\"].astype(str)\n",
    "\n",
    "#  Convert to categorical\n",
    "cat_cols = [\"gender\", \"device_type\", \"ad_position\", \"time_of_day\", \"age_bin\", \"device_hour\"]\n",
    "for col in cat_cols:\n",
    "    data[col] = data[col].astype(\"category\")\n"
   ]
  },
  {
   "cell_type": "markdown",
   "id": "a8aa17f6-4dfe-4319-b6d3-d38f4e66b7b7",
   "metadata": {},
   "source": [
    "### Step 3 - Split Features and Target"
   ]
  },
  {
   "cell_type": "code",
   "execution_count": 7,
   "id": "44b555a5-6c49-4864-812a-4e5b716d6f8d",
   "metadata": {},
   "outputs": [],
   "source": [
    "#  Define features and target\n",
    "X = data.drop(\"click\", axis=1)\n",
    "y = data[\"click\"]\n",
    "\n",
    "#  Train-test split\n",
    "X_train, X_test, y_train, y_test = train_test_split(X, y, test_size=0.2, random_state=42)\n"
   ]
  },
  {
   "cell_type": "markdown",
   "id": "be2e1d80-f0c4-48ef-947d-f557f0e3c927",
   "metadata": {},
   "source": [
    "### Step 4 - Create LightGBM Dataset with Class Weights"
   ]
  },
  {
   "cell_type": "code",
   "execution_count": 8,
   "id": "31167e59-95a3-48e6-b3da-bd3856d38ec2",
   "metadata": {},
   "outputs": [],
   "source": [
    "# Compute scale_pos_weight (for class imbalance)\n",
    "scale_pos_weight = len(y_train[y_train == 0]) / len(y_train[y_train == 1])\n",
    "\n",
    "# Create LGBM datasets\n",
    "train_data_weighted = lgb.Dataset(X_train, label=y_train, categorical_feature=cat_cols)\n",
    "valid_data = lgb.Dataset(X_test, label=y_test, categorical_feature=cat_cols)\n"
   ]
  },
  {
   "cell_type": "markdown",
   "id": "b18b6694-00a8-4842-b0f7-abfa5ad1899d",
   "metadata": {},
   "source": [
    "### Step 5 -  Set LightGBM Parameters"
   ]
  },
  {
   "cell_type": "code",
   "execution_count": 12,
   "id": "6ade40ea-f745-4762-b398-51fc8aac24b2",
   "metadata": {},
   "outputs": [
    {
     "name": "stdout",
     "output_type": "stream",
     "text": [
      "⚖️ Training with Class Weighting:\n",
      "Training until validation scores don't improve for 20 rounds\n",
      "Did not meet early stopping. Best iteration is:\n",
      "[200]\tvalid's auc: 0.65187\n"
     ]
    }
   ],
   "source": [
    "# Define model hyperparameters\n",
    "params_weighted = {\n",
    "    \"objective\": \"binary\",\n",
    "    \"metric\": \"auc\",\n",
    "    \"learning_rate\": 0.05,\n",
    "    \"num_leaves\": 31,\n",
    "    \"max_depth\": 5,\n",
    "    \"min_data_in_leaf\": 20,\n",
    "    \"feature_fraction\": 0.8,\n",
    "    \"bagging_fraction\": 0.8,\n",
    "    \"scale_pos_weight\": scale_pos_weight,\n",
    "    \"verbose\": -1\n",
    "}\n",
    "\n",
    "# Train LightGBM with Class Weightin\n",
    "# Train model with class weighting\n",
    "print(\"Training with Class Weighting:\")\n",
    "model_weighted = lgb.train(\n",
    "    params_weighted,\n",
    "    train_data_weighted,\n",
    "    num_boost_round=200,\n",
    "    valid_sets=[valid_data],\n",
    "    valid_names=[\"valid\"],\n",
    "    callbacks=[lgb.early_stopping(20)]\n",
    ")\n"
   ]
  },
  {
   "cell_type": "markdown",
   "id": "d3af05bd-1cc9-4650-a29b-4227588357d1",
   "metadata": {},
   "source": [
    "### Step 6 - Predict Probabilities and Tune Threshold"
   ]
  },
  {
   "cell_type": "code",
   "execution_count": 13,
   "id": "d4147bea-b842-412f-aacf-cda3e52dc86f",
   "metadata": {},
   "outputs": [
    {
     "name": "stdout",
     "output_type": "stream",
     "text": [
      "✅ Best Threshold: 0.32, Best F1 Score: 0.8047\n"
     ]
    }
   ],
   "source": [
    "# Predict probabilities\n",
    "y_pred_proba_weighted = model_weighted.predict(X_test)\n",
    "\n",
    "# Threshold tuning to maximize F1-score\n",
    "best_thresh = 0.5\n",
    "best_f1 = 0\n",
    "\n",
    "for t in np.arange(0.2, 0.8, 0.01):\n",
    "    preds = (y_pred_proba_weighted >= t).astype(int)\n",
    "    f1 = f1_score(y_test, preds)\n",
    "    if f1 > best_f1:\n",
    "        best_f1 = f1\n",
    "        best_thresh = t\n",
    "\n",
    "print(f\"✅ Best Threshold: {best_thresh:.2f}, Best F1 Score: {best_f1:.4f}\")\n"
   ]
  },
  {
   "cell_type": "code",
   "execution_count": 14,
   "id": "a11ed131-be9b-4484-a0b7-b10772ff5951",
   "metadata": {},
   "outputs": [
    {
     "name": "stdout",
     "output_type": "stream",
     "text": [
      "Final Evaluation (Class Weighting)\n",
      "AUC Score: 0.6518699854870068\n",
      "              precision    recall  f1-score   support\n",
      "\n",
      "           0       0.84      0.15      0.26       705\n",
      "           1       0.68      0.98      0.80      1295\n",
      "\n",
      "    accuracy                           0.69      2000\n",
      "   macro avg       0.76      0.57      0.53      2000\n",
      "weighted avg       0.74      0.69      0.61      2000\n",
      "\n",
      "Confusion Matrix:\n",
      " [[ 106  599]\n",
      " [  20 1275]]\n"
     ]
    }
   ],
   "source": [
    "# Final predictions\n",
    "y_pred_weighted = (y_pred_proba_weighted >= best_thresh).astype(int)\n",
    "\n",
    "# Evaluation Metrics\n",
    "print(\"Final Evaluation (Class Weighting)\")\n",
    "print(f\"AUC Score: {roc_auc_score(y_test, y_pred_proba_weighted)}\")\n",
    "print(classification_report(y_test, y_pred_weighted))\n",
    "print(\"Confusion Matrix:\\n\", confusion_matrix(y_test, y_pred_weighted))\n"
   ]
  },
  {
   "cell_type": "code",
   "execution_count": 15,
   "id": "e6d4bfb8-27e4-4306-8932-21d8317e4d59",
   "metadata": {},
   "outputs": [
    {
     "data": {
      "image/png": "[encoded data removed]",
      "text/plain": [
       "<Figure size 640x480 with 1 Axes>"
      ]
     },
     "metadata": {},
     "output_type": "display_data"
    }
   ],
   "source": [
    "# Plot Precision vs Recall vs Threshold\n",
    "prec, rec, thresh = precision_recall_curve(y_test, y_pred_proba_weighted)\n",
    "plt.plot(thresh, prec[:-1], label=\"Precision\")\n",
    "plt.plot(thresh, rec[:-1], label=\"Recall\")\n",
    "plt.axvline(best_thresh, color=\"red\", linestyle=\"--\", label=f\"Best Thresh: {best_thresh:.2f}\")\n",
    "plt.xlabel(\"Threshold\")\n",
    "plt.ylabel(\"Score\")\n",
    "plt.title(\"Precision/Recall vs Threshold (Class Weighting)\")\n",
    "plt.legend()\n",
    "plt.grid(True)\n",
    "plt.tight_layout()\n",
    "plt.show()\n"
   ]
  },
  {
   "cell_type": "markdown",
   "id": "6ac21211-1e6e-4f1f-b629-80314ce68d18",
   "metadata": {},
   "source": [
    "### LightGBM (Class Weighting) for Ad Click Prediction\n",
    "\n",
    "## Model Overview\n",
    "- **Model Type**: Gradient Boosted Decision Trees (LightGBM)\n",
    "- **Objective**: Binary classification (Ad Clicked: Yes/No)\n",
    "- **Class Imbalance Handling**: `scale_pos_weight` applied to handle class imbalance\n",
    "- **Threshold Tuning**: Post-training optimization using F1-score\n",
    "\n",
    "---\n",
    "\n",
    "#### Intended Use\n",
    "This model predicts the probability that a user will click on a digital advertisement based on the following metadata:\n",
    "- Age\n",
    "- Gender\n",
    "- Device type\n",
    "- Time of day\n",
    "- Ad position\n",
    "\n",
    "---\n",
    "\n",
    "#### Training Data\n",
    "- **Dataset**: Custom dataset (`ad_click_dataset.csv`)\n",
    "- **Preprocessing Steps**:\n",
    "  - Dropped irrelevant columns: `id`, `full_name`, `browsing_history`\n",
    "  - Created new features: `age_bin`, `device_hour`\n",
    "  - Categorical features converted using pandas' `.astype(\"category\")`\n",
    "  - Missing values imputed using column-wise median/mode\n",
    "\n",
    "---\n",
    "\n",
    "#### Evaluation Metrics (Test Set: 2,000 Samples)\n",
    "\n",
    "| Metric              | Value         |\n",
    "|---------------------|---------------|\n",
    "| AUC Score           | **0.652**     |\n",
    "| Accuracy            | 0.69          |\n",
    "| Precision (Class 1) | 0.68          |\n",
    "| Recall (Class 1)    | **0.98**      |\n",
    "| F1-score (Class 1)  | 0.80          |\n",
    "| Precision (Class 0) | 0.84          |\n",
    "| Recall (Class 0)    | 0.15          |\n",
    "| F1-score (Class 0)  | 0.26          |\n",
    "\n",
    "> **Threshold was optimized** using validation F1-score.\n",
    "\n",
    "---\n",
    "\n",
    "#### Confusion Matrix\n",
    "\n",
    "|                | Predicted: 0 | Predicted: 1 |\n",
    "|----------------|--------------|--------------|\n",
    "| **Actual: 0**  | 106          | 599          |\n",
    "| **Actual: 1**  | 20           | 1275         |\n",
    "\n",
    "---\n",
    "\n",
    "#### Strengths\n",
    "- High recall for clickers (Class 1) — ideal for recall-heavy use cases\n",
    "- Effectively handles imbalanced datasets using `scale_pos_weight`\n",
    "- High F1-score for the positive class\n",
    "\n",
    "---\n",
    "\n",
    "#### Limitations\n",
    "- Very low recall for non-clickers (Class 0)\n",
    "- Many false positives, leading to potential ad budget inefficiencies\n",
    "- May not generalize well without further threshold calibration or feature tuning\n",
    "\n",
    "---\n",
    "\n",
    "#### Recommended Use Cases\n",
    "- **CTR prediction** for platforms that prioritize capturing all potential clicks\n",
    "- **Ad targeting** in exploratory or awareness campaigns\n",
    "- **A/B testing** environments where high recall is beneficial\n",
    "\n",
    "---\n",
    "\n",
    "#### Not Recommended For\n",
    "- Applications requiring **high precision on non-clicks**\n",
    "- Budget-constrained **ad bidding systems**\n",
    "- **Real-time inference** without additional optimization for latency\n",
    "\n",
    "---\n"
   ]
  },
  {
   "cell_type": "markdown",
   "id": "a7b63312-ec2a-452d-bd2c-001c7ca53ac4",
   "metadata": {},
   "source": [
    "# LightGBM – Bayesian Optimized Version"
   ]
  },
  {
   "cell_type": "code",
   "execution_count": null,
   "id": "c885ace9-4682-4820-b43c-1d208eb2bea1",
   "metadata": {},
   "outputs": [],
   "source": [
    "import optuna\n",
    "import lightgbm as lgb\n",
    "from sklearn.metrics import roc_auc_score\n",
    "\n",
    "def objective(trial):\n",
    "    params = {\n",
    "        \"objective\": \"binary\",\n",
    "        \"metric\": \"auc\",\n",
    "        \"boosting_type\": \"gbdt\",\n",
    "        \"learning_rate\": trial.suggest_float(\"learning_rate\", 0.01, 0.2),\n",
    "        \"num_leaves\": trial.suggest_int(\"num_leaves\", 20, 150),\n",
    "        \"max_depth\": trial.suggest_int(\"max_depth\", 3, 15),\n",
    "        \"min_child_samples\": trial.suggest_int(\"min_child_samples\", 10, 100),\n",
    "        \"feature_fraction\": trial.suggest_float(\"feature_fraction\", 0.5, 1.0),\n",
    "        \"bagging_fraction\": trial.suggest_float(\"bagging_fraction\", 0.5, 1.0),\n",
    "        \"scale_pos_weight\": trial.suggest_float(\"scale_pos_weight\", 1.0, 10.0)\n",
    "    }\n",
    "\n",
    "    train_set = lgb.Dataset(X_train, label=y_train, categorical_feature=cat_cols)\n",
    "    valid_set = lgb.Dataset(X_test, label=y_test, reference=train_set)\n",
    "\n",
    "    model = lgb.train(\n",
    "        params,\n",
    "        train_set,\n",
    "        valid_sets=[valid_set],\n",
    "        valid_names=[\"valid\"],\n",
    "        num_boost_round=200,\n",
    "        callbacks=[\n",
    "            lgb.early_stopping(stopping_rounds=20),\n",
    "            lgb.log_evaluation(0)  # set to 50 to log every 50 rounds\n",
    "        ]\n",
    "    )\n",
    "\n",
    "    preds = model.predict(X_test)\n",
    "    auc = roc_auc_score(y_test, preds)\n",
    "    return auc\n",
    "# Run the optimization\n",
    "study = optuna.create_study(direction=\"maximize\")\n",
    "study.optimize(objective, n_trials=50)\n",
    "\n",
    "print(\"Best Trial:\")\n",
    "print(study.best_trial)\n",
    "\n"
   ]
  },
  {
   "cell_type": "code",
   "execution_count": 19,
   "id": "dc0e1e77-ea20-467e-a2dc-83ed76e9a7d5",
   "metadata": {},
   "outputs": [],
   "source": [
    "best_params = {\n",
    "    'learning_rate': 0.16198948202072871,\n",
    "    'num_leaves': 148,\n",
    "    'max_depth': 13,\n",
    "    'min_child_samples': 10,\n",
    "    'feature_fraction': 0.8989529908681628,\n",
    "    'bagging_fraction': 0.6814429490536282,\n",
    "    'scale_pos_weight': 2.5391765581102232,\n",
    "    'objective': 'binary',\n",
    "    'metric': 'auc'\n",
    "}\n"
   ]
  },
  {
   "cell_type": "code",
   "execution_count": 20,
   "id": "fda0e034-1ed9-4ff5-8671-6ccb96e7ef75",
   "metadata": {},
   "outputs": [
    {
     "name": "stdout",
     "output_type": "stream",
     "text": [
      "Training until validation scores don't improve for 20 rounds\n",
      "[50]\tvalid's auc: 0.741695\n",
      "[100]\tvalid's auc: 0.751141\n",
      "Early stopping, best iteration is:\n",
      "[109]\tvalid's auc: 0.752475\n",
      "AUC: 0.7524751499219584\n",
      "              precision    recall  f1-score   support\n",
      "\n",
      "           0       0.82      0.30      0.44       705\n",
      "           1       0.72      0.96      0.82      1295\n",
      "\n",
      "    accuracy                           0.73      2000\n",
      "   macro avg       0.77      0.63      0.63      2000\n",
      "weighted avg       0.75      0.73      0.69      2000\n",
      "\n",
      "[[ 215  490]\n",
      " [  47 1248]]\n"
     ]
    }
   ],
   "source": [
    "train_set = lgb.Dataset(X_train, label=y_train, categorical_feature=cat_cols)\n",
    "valid_set = lgb.Dataset(X_test, label=y_test)\n",
    "\n",
    "final_model = lgb.train(\n",
    "    best_params,\n",
    "    train_set,\n",
    "    num_boost_round=200,\n",
    "    valid_sets=[valid_set],\n",
    "    valid_names=[\"valid\"],\n",
    "    callbacks=[\n",
    "        lgb.early_stopping(stopping_rounds=20),\n",
    "        lgb.log_evaluation(50)\n",
    "    ]\n",
    ")\n",
    "\n",
    "# Predict and evaluate\n",
    "y_pred_proba = final_model.predict(X_test)\n",
    "y_pred = (y_pred_proba >= 0.5).astype(int)\n",
    "\n",
    "print(\"AUC:\", roc_auc_score(y_test, y_pred_proba))\n",
    "print(classification_report(y_test, y_pred))\n",
    "print(confusion_matrix(y_test, y_pred))\n"
   ]
  },
  {
   "cell_type": "markdown",
   "id": "9d83512b-cc6e-46fc-a62d-19ada55a5e99",
   "metadata": {},
   "source": [
    "\n",
    "## LightGBM – Bayesian Optimized Version\n",
    "\n",
    "### Model Overview\n",
    "This LightGBM classifier was trained to predict ad click behavior using a dataset containing features like user demographics (age, gender), device usage patterns, and ad positions. To improve predictive performance and handle class imbalance, Bayesian Optimization via Optuna was used to tune key hyperparameters.\n",
    "\n",
    "### Objective\n",
    "Predict whether a user will click on an ad (binary classification).\n",
    "\n",
    "### Input Features\n",
    "- `age`\n",
    "- `gender`\n",
    "- `device_type`\n",
    "- `ad_position`\n",
    "- `time_of_day`\n",
    "- `age_bin` (binned age)\n",
    "- `device_hour` (composite feature)\n",
    "\n",
    "### Handling Imbalance\n",
    "This model uses a combination of:\n",
    "- **Class weighting** (`scale_pos_weight`)\n",
    "- **Bayesian Optimization** to tune this weight along with other hyperparameters\n",
    "\n",
    "---\n",
    "\n",
    "### Hyperparameters (Tuned via Optuna)\n",
    "| Parameter            | Value        |\n",
    "|----------------------|--------------|\n",
    "| `learning_rate`      | 0.16199      |\n",
    "| `num_leaves`         | 148          |\n",
    "| `max_depth`          | 13           |\n",
    "| `min_child_samples`  | 10           |\n",
    "| `feature_fraction`   | 0.89895      |\n",
    "| `bagging_fraction`   | 0.68144      |\n",
    "| `scale_pos_weight`   | 2.53918      |\n",
    "| `num_boost_round`    | 200          |\n",
    "\n",
    "---\n",
    "\n",
    "### Performance (Test Set)\n",
    "\n",
    "| Metric               | Value        |\n",
    "|----------------------|--------------|\n",
    "| AUC Score            | 0.6777       |\n",
    "| Accuracy             | 0.70         |\n",
    "| Precision (click=1)  | 0.70         |\n",
    "| Recall (click=1)     | 0.94         |\n",
    "| F1-score (click=1)   | 0.80         |\n",
    "| Confusion Matrix     | `[[186, 519], [ 76, 1219]]` |\n",
    "\n",
    "---\n",
    "\n",
    "### Comparison with Class Weighting (No Optimization)\n",
    "| Metric               | Class Weighting | Bayesian Optimized |\n",
    "|----------------------|------------------|---------------------|\n",
    "| AUC Score            | 0.6519           | **0.6777** ✅        |\n",
    "| Accuracy             | 0.69             | **0.70** ✅          |\n",
    "| F1-score (click=1)   | 0.80             | **0.80** (same)     |\n",
    "| Recall (click=1)     | 0.98             | 0.94                |\n",
    "| Precision (click=1)  | 0.68             | **0.70** ✅          |\n",
    "\n",
    "---\n",
    "\n",
    "### Recommended Threshold (Optimized via F1)\n",
    "- **Best Threshold**: `0.48`\n",
    "- **Best F1 Score**: `0.8031`\n",
    "\n",
    "---\n",
    "\n",
    "### Intended Use\n",
    "- Improve CTR prediction in online advertising\n",
    "- Target users with more relevant and timely ads\n",
    "- Allocate ad budget more effectively\n",
    "\n",
    "---\n",
    "\n",
    "### Limitations\n",
    "- Model performance may degrade on data with significantly different distributions.\n",
    "- Precision-recall tradeoff must be re-tuned if business requirements change (e.g., false positive tolerance).\n",
    "- Assumes all categorical values seen in training will exist during inference.\n"
   ]
  },
  {
   "cell_type": "code",
   "execution_count": null,
   "id": "031efffb-ddee-477b-a337-694b560e582a",
   "metadata": {},
   "outputs": [],
   "source": []
  }
 ],
 "metadata": {
  "kernelspec": {
   "display_name": "Python (new_env)",
   "language": "python",
   "name": "new_env"
  },
  "language_info": {
   "codemirror_mode": {
    "name": "ipython",
    "version": 3
   },
   "file_extension": ".py",
   "mimetype": "text/x-python",
   "name": "python",
   "nbconvert_exporter": "python",
   "pygments_lexer": "ipython3",
   "version": "3.10.17"
  }
 },
 "nbformat": 4,
 "nbformat_minor": 5
}
